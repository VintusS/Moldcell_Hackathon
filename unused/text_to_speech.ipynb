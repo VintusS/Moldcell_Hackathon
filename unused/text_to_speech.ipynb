{
 "cells": [
  {
   "cell_type": "code",
   "execution_count": 2,
   "metadata": {},
   "outputs": [],
   "source": [
    "import vertexai\n",
    "from vertexai.language_models import ChatModel, InputOutputTextPair\n",
    "import os\n",
    "import requests\n",
    "from google.oauth2 import service_account\n",
    "import base64"
   ]
  },
  {
   "cell_type": "code",
   "execution_count": 3,
   "metadata": {},
   "outputs": [],
   "source": [
    "vertexai.init(project=\"moldcell-hackaton-pinguinii\", location=\"us-central1\")\n",
    "chat_model = ChatModel.from_pretrained(\"chat-bison\")\n",
    "parameters = {\n",
    "    \"candidate_count\": 1,\n",
    "    \"max_output_tokens\": 1024,\n",
    "    \"temperature\": 0.9,\n",
    "    \"top_p\": 1\n",
    "}"
   ]
  },
  {
   "cell_type": "code",
   "execution_count": 4,
   "metadata": {},
   "outputs": [],
   "source": [
    "def text_to_speech(text, project_id, output_file=\"output.mp3\"):\n",
    "   \"\"\"Synthesizes text to speech using the Google Text-to-Speech API and saves the audio to a file.\n",
    "\n",
    "   Args:\n",
    "       text (str): The text to be synthesized.\n",
    "       project_id (str): The Google Cloud project ID.\n",
    "       output_file (str, optional): The path to the output audio file. Defaults to \"output.mp3\".\n",
    "\n",
    "   Returns:\n",
    "       None\n",
    "   \"\"\"\n",
    "\n",
    "   credentials = service_account.Credentials.from_service_account_file(\n",
    "       filename=\"moldcell-hackaton-pinguinii-3ac65abdfff7.json\"\n",
    "   )\n",
    "\n",
    "   headers = {\n",
    "       \"Authorization\": f\"Bearer ya29.a0Ad52N39i7YcUvFMzicbgWsLFFU6A3f-nifj3BLLxDxrl70E__lyB3mKDmXLaFnsjuCbPJfu2zumdZQz5O-H7qqjQsaOZTzp9HP7K0R-G1UDvVJuZI8cPqFCnOjkebdkOsrw1GNQ_ATORvyR3iaOUowQJpa7V-ug77nnudA6to8QaCgYKAeYSARESFQHGX2MiElYL2ynQ4GvHlgdY40AYyg0178\",\n",
    "       \"x-goog-user-project\": project_id,\n",
    "       \"Content-Type\": \"application/json; charset=utf-8\",\n",
    "   }\n",
    "   data = {\n",
    "       \"input\": {\"text\": text},\n",
    "       \"voice\": {\n",
    "           \"languageCode\": \"ro-RO\",  # Change to \"ro-RO\" for Romanian\n",
    "        \"name\": \"ro-RO-Standard-A\",  # Optional: Romanian voice name (optional)\n",
    "        \"ssmlGender\": \"FEMALE\",  # Optional: Voice gender (optional)\n",
    "       },\n",
    "       \"audioConfig\": {\"audioEncoding\": \"MP3\"},\n",
    "   }\n",
    "\n",
    "   response = requests.post(\n",
    "       url=\"https://texttospeech.googleapis.com/v1/text:synthesize\",\n",
    "       headers=headers,\n",
    "       json=data,\n",
    "   )\n",
    "\n",
    "   response.raise_for_status()  # Raise an exception for non-200 status codes\n",
    "\n",
    "   audio_data = base64.b64decode(response.content)\n",
    "\n",
    "    # Write decoded data to MP3 file\n",
    "   with open(output_file, \"wb\") as f:\n",
    "        f.write(audio_data)"
   ]
  },
  {
   "cell_type": "code",
   "execution_count": 5,
   "metadata": {},
   "outputs": [],
   "source": [
    "chat = chat_model.start_chat(\n",
    "    context=\"\"\"You are an assistant that is specialized in elder people healthcare. You do speak Romanian only.Write aswer shortly\"\"\",\n",
    ")"
   ]
  },
  {
   "cell_type": "code",
   "execution_count": 6,
   "metadata": {},
   "outputs": [
    {
     "ename": "HTTPError",
     "evalue": "401 Client Error: Unauthorized for url: https://texttospeech.googleapis.com/v1/text:synthesize",
     "output_type": "error",
     "traceback": [
      "\u001b[0;31m---------------------------------------------------------------------------\u001b[0m",
      "\u001b[0;31mHTTPError\u001b[0m                                 Traceback (most recent call last)",
      "Cell \u001b[0;32mIn[6], line 2\u001b[0m\n\u001b[1;32m      1\u001b[0m response \u001b[38;5;241m=\u001b[39m chat\u001b[38;5;241m.\u001b[39msend_message(\u001b[38;5;124m\"\u001b[39m\u001b[38;5;124mCat este 4 inmultit cu 4\u001b[39m\u001b[38;5;124m\"\u001b[39m)\n\u001b[0;32m----> 2\u001b[0m \u001b[43mtext_to_speech\u001b[49m\u001b[43m(\u001b[49m\u001b[43mresponse\u001b[49m\u001b[38;5;241;43m.\u001b[39;49m\u001b[43mtext\u001b[49m\u001b[43m,\u001b[49m\u001b[38;5;124;43m\"\u001b[39;49m\u001b[38;5;124;43mmoldcell-hackaton-pinguinii\u001b[39;49m\u001b[38;5;124;43m\"\u001b[39;49m\u001b[43m)\u001b[49m\n",
      "Cell \u001b[0;32mIn[4], line 38\u001b[0m, in \u001b[0;36mtext_to_speech\u001b[0;34m(text, project_id, output_file)\u001b[0m\n\u001b[1;32m     22\u001b[0m data \u001b[38;5;241m=\u001b[39m {\n\u001b[1;32m     23\u001b[0m     \u001b[38;5;124m\"\u001b[39m\u001b[38;5;124minput\u001b[39m\u001b[38;5;124m\"\u001b[39m: {\u001b[38;5;124m\"\u001b[39m\u001b[38;5;124mtext\u001b[39m\u001b[38;5;124m\"\u001b[39m: text},\n\u001b[1;32m     24\u001b[0m     \u001b[38;5;124m\"\u001b[39m\u001b[38;5;124mvoice\u001b[39m\u001b[38;5;124m\"\u001b[39m: {\n\u001b[0;32m   (...)\u001b[0m\n\u001b[1;32m     29\u001b[0m     \u001b[38;5;124m\"\u001b[39m\u001b[38;5;124maudioConfig\u001b[39m\u001b[38;5;124m\"\u001b[39m: {\u001b[38;5;124m\"\u001b[39m\u001b[38;5;124maudioEncoding\u001b[39m\u001b[38;5;124m\"\u001b[39m: \u001b[38;5;124m\"\u001b[39m\u001b[38;5;124mMP3\u001b[39m\u001b[38;5;124m\"\u001b[39m},\n\u001b[1;32m     30\u001b[0m }\n\u001b[1;32m     32\u001b[0m response \u001b[38;5;241m=\u001b[39m requests\u001b[38;5;241m.\u001b[39mpost(\n\u001b[1;32m     33\u001b[0m     url\u001b[38;5;241m=\u001b[39m\u001b[38;5;124m\"\u001b[39m\u001b[38;5;124mhttps://texttospeech.googleapis.com/v1/text:synthesize\u001b[39m\u001b[38;5;124m\"\u001b[39m,\n\u001b[1;32m     34\u001b[0m     headers\u001b[38;5;241m=\u001b[39mheaders,\n\u001b[1;32m     35\u001b[0m     json\u001b[38;5;241m=\u001b[39mdata,\n\u001b[1;32m     36\u001b[0m )\n\u001b[0;32m---> 38\u001b[0m \u001b[43mresponse\u001b[49m\u001b[38;5;241;43m.\u001b[39;49m\u001b[43mraise_for_status\u001b[49m\u001b[43m(\u001b[49m\u001b[43m)\u001b[49m  \u001b[38;5;66;03m# Raise an exception for non-200 status codes\u001b[39;00m\n\u001b[1;32m     40\u001b[0m audio_data \u001b[38;5;241m=\u001b[39m base64\u001b[38;5;241m.\u001b[39mb64decode(response\u001b[38;5;241m.\u001b[39mcontent)\n\u001b[1;32m     42\u001b[0m  \u001b[38;5;66;03m# Write decoded data to MP3 file\u001b[39;00m\n",
      "File \u001b[0;32m~/GitHub/Moldcell_Hackathon/venv/lib/python3.11/site-packages/requests/models.py:1021\u001b[0m, in \u001b[0;36mResponse.raise_for_status\u001b[0;34m(self)\u001b[0m\n\u001b[1;32m   1016\u001b[0m     http_error_msg \u001b[38;5;241m=\u001b[39m (\n\u001b[1;32m   1017\u001b[0m         \u001b[38;5;124mf\u001b[39m\u001b[38;5;124m\"\u001b[39m\u001b[38;5;132;01m{\u001b[39;00m\u001b[38;5;28mself\u001b[39m\u001b[38;5;241m.\u001b[39mstatus_code\u001b[38;5;132;01m}\u001b[39;00m\u001b[38;5;124m Server Error: \u001b[39m\u001b[38;5;132;01m{\u001b[39;00mreason\u001b[38;5;132;01m}\u001b[39;00m\u001b[38;5;124m for url: \u001b[39m\u001b[38;5;132;01m{\u001b[39;00m\u001b[38;5;28mself\u001b[39m\u001b[38;5;241m.\u001b[39murl\u001b[38;5;132;01m}\u001b[39;00m\u001b[38;5;124m\"\u001b[39m\n\u001b[1;32m   1018\u001b[0m     )\n\u001b[1;32m   1020\u001b[0m \u001b[38;5;28;01mif\u001b[39;00m http_error_msg:\n\u001b[0;32m-> 1021\u001b[0m     \u001b[38;5;28;01mraise\u001b[39;00m HTTPError(http_error_msg, response\u001b[38;5;241m=\u001b[39m\u001b[38;5;28mself\u001b[39m)\n",
      "\u001b[0;31mHTTPError\u001b[0m: 401 Client Error: Unauthorized for url: https://texttospeech.googleapis.com/v1/text:synthesize"
     ]
    }
   ],
   "source": [
    "response = chat.send_message(\"Cat este 4 inmultit cu 4\")\n",
    "text_to_speech(response.text,\"moldcell-hackaton-pinguinii\")\n"
   ]
  },
  {
   "cell_type": "code",
   "execution_count": null,
   "metadata": {},
   "outputs": [],
   "source": []
  }
 ],
 "metadata": {
  "kernelspec": {
   "display_name": "Python 3",
   "language": "python",
   "name": "python3"
  },
  "language_info": {
   "codemirror_mode": {
    "name": "ipython",
    "version": 3
   },
   "file_extension": ".py",
   "mimetype": "text/x-python",
   "name": "python",
   "nbconvert_exporter": "python",
   "pygments_lexer": "ipython3",
   "version": "3.11.8"
  }
 },
 "nbformat": 4,
 "nbformat_minor": 2
}
