{
 "cells": [
  {
   "cell_type": "code",
   "execution_count": 2,
   "metadata": {
    "ExecuteTime": {
     "end_time": "2024-03-16T14:31:47.054485Z",
     "start_time": "2024-03-16T14:31:44.828168Z"
    }
   },
   "outputs": [],
   "source": [
    "import vertexai\n",
    "from vertexai.language_models import ChatModel, InputOutputTextPair"
   ]
  },
  {
   "cell_type": "code",
   "execution_count": 8,
   "metadata": {
    "ExecuteTime": {
     "end_time": "2024-03-16T14:34:09.202124Z",
     "start_time": "2024-03-16T14:34:08.137280Z"
    }
   },
   "outputs": [],
   "source": [
    "vertexai.init(project=\"moldcell-hackaton-pinguinii\", location=\"us-central1\")\n",
    "chat_model = ChatModel.from_pretrained(\"chat-bison\")\n",
    "parameters = {\n",
    "    \"candidate_count\": 1,\n",
    "    \"max_output_tokens\": 1024,\n",
    "    \"temperature\": 0.9,\n",
    "    \"top_p\": 1\n",
    "}"
   ]
  },
  {
   "cell_type": "code",
   "execution_count": 9,
   "metadata": {
    "ExecuteTime": {
     "end_time": "2024-03-16T14:34:09.949437Z",
     "start_time": "2024-03-16T14:34:09.945738Z"
    }
   },
   "outputs": [],
   "source": [
    "chat = chat_model.start_chat(\n",
    "    context=\"\"\"\"\"\",\n",
    ")"
   ]
  },
  {
   "cell_type": "code",
   "execution_count": 10,
   "metadata": {
    "ExecuteTime": {
     "end_time": "2024-03-16T14:34:12.200180Z",
     "start_time": "2024-03-16T14:34:10.521738Z"
    }
   },
   "outputs": [],
   "source": [
    "response = chat.send_message(\"Poti sa ma ajuti cu niste chestii de sanatate?\")"
   ]
  },
  {
   "cell_type": "code",
   "execution_count": 11,
   "metadata": {
    "ExecuteTime": {
     "end_time": "2024-03-16T14:34:12.626121Z",
     "start_time": "2024-03-16T14:34:12.618960Z"
    }
   },
   "outputs": [
    {
     "data": {
      "text/plain": " Bineînțeles, sunt aici pentru a vă ajuta cu orice nelămuriri sau întrebări legate de sănătate. Cum vă pot fi de folos?"
     },
     "execution_count": 11,
     "metadata": {},
     "output_type": "execute_result"
    }
   ],
   "source": [
    "response"
   ]
  },
  {
   "cell_type": "code",
   "outputs": [],
   "source": [],
   "metadata": {
    "collapsed": false
   }
  }
 ],
 "metadata": {
  "kernelspec": {
   "display_name": "venv",
   "language": "python",
   "name": "python3"
  },
  "language_info": {
   "codemirror_mode": {
    "name": "ipython",
    "version": 3
   },
   "file_extension": ".py",
   "mimetype": "text/x-python",
   "name": "python",
   "nbconvert_exporter": "python",
   "pygments_lexer": "ipython3",
   "version": "3.11.8"
  }
 },
 "nbformat": 4,
 "nbformat_minor": 2
}
