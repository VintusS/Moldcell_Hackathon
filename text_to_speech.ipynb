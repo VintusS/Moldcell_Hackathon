{
 "cells": [
  {
   "cell_type": "code",
   "execution_count": 14,
   "metadata": {},
   "outputs": [],
   "source": [
    "import vertexai\n",
    "from gtts import gTTS\n",
    "from vertexai.language_models import ChatModel, InputOutputTextPair\n",
    "import os\n",
    "import requests\n",
    "from google.oauth2 import service_account\n",
    "import base64"
   ]
  },
  {
   "cell_type": "code",
   "execution_count": 8,
   "metadata": {},
   "outputs": [],
   "source": [
    "vertexai.init(project=\"moldcell-hackaton-pinguinii\", location=\"us-central1\")\n",
    "chat_model = ChatModel.from_pretrained(\"chat-bison\")\n",
    "parameters = {\n",
    "    \"candidate_count\": 1,\n",
    "    \"max_output_tokens\": 1024,\n",
    "    \"temperature\": 0.9,\n",
    "    \"top_p\": 1\n",
    "}"
   ]
  },
  {
   "cell_type": "code",
   "execution_count": 20,
   "metadata": {},
   "outputs": [],
   "source": [
    "def text_to_speech(text, project_id, output_file=\"output.mp3\"):\n",
    "   \"\"\"Synthesizes text to speech using the Google Text-to-Speech API and saves the audio to a file.\n",
    "\n",
    "   Args:\n",
    "       text (str): The text to be synthesized.\n",
    "       project_id (str): The Google Cloud project ID.\n",
    "       output_file (str, optional): The path to the output audio file. Defaults to \"output.mp3\".\n",
    "\n",
    "   Returns:\n",
    "       None\n",
    "   \"\"\"\n",
    "\n",
    "   credentials = service_account.Credentials.from_service_account_file(\n",
    "       filename=\"moldcell-hackaton-pinguinii-3ac65abdfff7.json\"\n",
    "   )\n",
    "\n",
    "   headers = {\n",
    "       \"Authorization\": f\"Bearer ya29.a0Ad52N39i7YcUvFMzicbgWsLFFU6A3f-nifj3BLLxDxrl70E__lyB3mKDmXLaFnsjuCbPJfu2zumdZQz5O-H7qqjQsaOZTzp9HP7K0R-G1UDvVJuZI8cPqFCnOjkebdkOsrw1GNQ_ATORvyR3iaOUowQJpa7V-ug77nnudA6to8QaCgYKAeYSARESFQHGX2MiElYL2ynQ4GvHlgdY40AYyg0178\",\n",
    "       \"x-goog-user-project\": project_id,\n",
    "       \"Content-Type\": \"application/json; charset=utf-8\",\n",
    "   }\n",
    "   data = {\n",
    "       \"input\": {\"text\": text},\n",
    "       \"voice\": {\n",
    "           \"languageCode\": \"ro-RO\",  # Change to \"ro-RO\" for Romanian\n",
    "        \"name\": \"ro-RO-Standard-A\",  # Optional: Romanian voice name (optional)\n",
    "        \"ssmlGender\": \"FEMALE\",  # Optional: Voice gender (optional)\n",
    "       },\n",
    "       \"audioConfig\": {\"audioEncoding\": \"MP3\"},\n",
    "   }\n",
    "\n",
    "   response = requests.post(\n",
    "       url=\"https://texttospeech.googleapis.com/v1/text:synthesize\",\n",
    "       headers=headers,\n",
    "       json=data,\n",
    "   )\n",
    "\n",
    "   response.raise_for_status()  # Raise an exception for non-200 status codes\n",
    "\n",
    "   audio_data = base64.b64decode(response.content)\n",
    "\n",
    "    # Write decoded data to MP3 file\n",
    "   with open(output_file, \"wb\") as f:\n",
    "        f.write(audio_data)"
   ]
  },
  {
   "cell_type": "code",
   "execution_count": 9,
   "metadata": {},
   "outputs": [],
   "source": [
    "chat = chat_model.start_chat(\n",
    "    context=\"\"\"You are an assistant that is specialized in elder people healthcare. You do speak Romanian only.Write aswer shortly\"\"\",\n",
    ")"
   ]
  },
  {
   "cell_type": "code",
   "execution_count": 22,
   "metadata": {},
   "outputs": [],
   "source": [
    "response = chat.send_message(\"Cat este 4 inmultit cu 4\")\n",
    "text_to_speech(response.text,\"moldcell-hackaton-pinguinii\")\n"
   ]
  },
  {
   "cell_type": "code",
   "execution_count": null,
   "metadata": {},
   "outputs": [],
   "source": []
  }
 ],
 "metadata": {
  "kernelspec": {
   "display_name": "Python 3",
   "language": "python",
   "name": "python3"
  },
  "language_info": {
   "codemirror_mode": {
    "name": "ipython",
    "version": 3
   },
   "file_extension": ".py",
   "mimetype": "text/x-python",
   "name": "python",
   "nbconvert_exporter": "python",
   "pygments_lexer": "ipython3",
   "version": "3.12.1"
  }
 },
 "nbformat": 4,
 "nbformat_minor": 2
}
